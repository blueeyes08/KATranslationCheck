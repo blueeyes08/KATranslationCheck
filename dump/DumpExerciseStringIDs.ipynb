{
 "cells": [
  {
   "cell_type": "code",
   "execution_count": null,
   "metadata": {},
   "outputs": [],
   "source": [
    "import requests\n",
    "from collections import defaultdict\n",
    "import re"
   ]
  },
  {
   "cell_type": "code",
   "execution_count": null,
   "metadata": {},
   "outputs": [],
   "source": [
    "response = requests.get(\"https://www.khanacademy.org/api/internal/translate/progress_nodes?lang=de&use_stage_for_origin_nodes=0&_=1516120716805\")"
   ]
  },
  {
   "cell_type": "code",
   "execution_count": null,
   "metadata": {},
   "outputs": [],
   "source": [
    "obj = response.json()"
   ]
  },
  {
   "cell_type": "code",
   "execution_count": null,
   "metadata": {},
   "outputs": [],
   "source": [
    "obj"
   ]
  },
  {
   "cell_type": "code",
   "execution_count": null,
   "metadata": {},
   "outputs": [],
   "source": [
    "list(obj[\"nodes\"].keys())"
   ]
  },
  {
   "cell_type": "code",
   "execution_count": null,
   "metadata": {},
   "outputs": [],
   "source": [
    "exids = [topic[\"slug\"] for topic in obj[\"nodes\"][\"exercises\"].values() if topic[\"contentKind\"] == \"Exercise\"]\n",
    "exids"
   ]
  },
  {
   "cell_type": "code",
   "execution_count": null,
   "metadata": {},
   "outputs": [],
   "source": [
    "\n",
    "def raw_assessment_info(exid):\n",
    "    response = requests.get(\"https://www.khanacademy.org/api/internal/exercises/{}/assessment_items?lang=de&localized_topic_tree=&_=1515982197307\".format(exid))\n",
    "    if response.text == \"API error\":\n",
    "        return None\n",
    "    return response.json()\n",
    "\n",
    "def assignment_info(exid):\n",
    "    ai = raw_assessment_info(exid)\n",
    "    # Build assignment ID (\"x844a80c198728eed\") to problem type (\"Type 1\") map\n",
    "    problemTypeMap = {}\n",
    "    for pt, assIDs in ai[\"problemTypes\"].items():\n",
    "        for assID in assIDs:\n",
    "            problemTypeMap[assID] = pt\n",
    "    # Build translation items by assignment\n",
    "    assignmentStrings = defaultdict(set)\n",
    "    for ti in ai[\"translationItems\"]:\n",
    "        # Usually (or always?) each ID occurs twice\n",
    "        crowdinIDs = set(re.findall(r\"crwdn[se](\\d+)\", ti[\"jiptString\"]))\n",
    "        assignmentStrings[ti[\"assessmentItem\"]].update(crowdinIDs)\n",
    "    return problemTypeMap, assignmentStrings\n",
    "\n",
    "assignment_info(\"skip-counting-by-10s\")"
   ]
  },
  {
   "cell_type": "code",
   "execution_count": null,
   "metadata": {},
   "outputs": [],
   "source": []
  },
  {
   "cell_type": "code",
   "execution_count": null,
   "metadata": {},
   "outputs": [],
   "source": []
  }
 ],
 "metadata": {
  "kernelspec": {
   "display_name": "Python 3",
   "language": "python",
   "name": "python3"
  },
  "language_info": {
   "codemirror_mode": {
    "name": "ipython",
    "version": 3
   },
   "file_extension": ".py",
   "mimetype": "text/x-python",
   "name": "python",
   "nbconvert_exporter": "python",
   "pygments_lexer": "ipython3",
   "version": "3.6.3"
  }
 },
 "nbformat": 4,
 "nbformat_minor": 2
}
